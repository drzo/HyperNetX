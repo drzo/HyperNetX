{
 "cells": [
  {
   "cell_type": "markdown",
   "metadata": {},
   "source": [
    "# Testing modularity code for HyperNetX\n",
    "\n",
    "Testing new code taking advantage of the data structure in HNX2 for the hypergraph_modularity module.\n",
    "The code can be installed from the following forked repo (branch = modularity):\n",
    "\n",
    "```\n",
    "pip install git+https://github.com/ftheberge/HyperNetX.git@modularity#egg=hypernetx \n",
    "```\n"
   ]
  },
  {
   "cell_type": "markdown",
   "metadata": {},
   "source": [
    "# Updates to HNX2.0 modularity module\n",
    "\n",
    "### Unchanged functions:\n",
    "\n",
    "- dict2part(D)\n",
    "- part2dict(A)\n",
    "- linear(d, c)\n",
    "- majority(d, c)\n",
    "- strict(d, c)\n",
    "- two_section(HG)\n",
    "- kumar(HG, delta=0.01, verbose=False)\n",
    "\n",
    "### No longer required\n",
    "\n",
    "- precompute_attributes(H)\n",
    "- _compute_partition_probas(HG, A)\n",
    "- _degree_tax(HG, Pr, wdc)\n",
    "- _edge_contribution(HG, A, wdc)\n",
    "- _delta_ec(HG, P, v, a, b, wdc)\n",
    "- _bin_ppmf(d, c, p)\n",
    "- _delta_dt(HG, P, v, a, b, wdc)\n",
    "\n",
    "### New version \n",
    "\n",
    "- modularity(HG, A, wdc=linear)\n",
    "- last_step(HG, L, wdc=linear, delta=0.01, verbose=False)\n",
    "\n",
    "### New (hidden) functions\n",
    "\n",
    "- _last_step_unweighted\n",
    "- _last_step_weighted\n"
   ]
  },
  {
   "cell_type": "code",
   "execution_count": 1,
   "metadata": {
    "ExecuteTime": {
     "end_time": "2023-11-09T00:28:24.033817Z",
     "start_time": "2023-11-09T00:28:24.026231Z"
    }
   },
   "outputs": [
    {
     "name": "stdout",
     "output_type": "stream",
     "text": [
      "HNX version: 2.2.0\n"
     ]
    }
   ],
   "source": [
    "import pandas as pd\n",
    "import numpy as np\n",
    "import igraph as ig\n",
    "import hypernetx as hnx\n",
    "import hypernetx.algorithms.hypergraph_modularity as hmod ## we re-wrote some of those functions\n",
    "import pickle\n",
    "import matplotlib.pyplot as plt\n",
    "%matplotlib inline\n",
    "from collections import Counter\n",
    "import shutup\n",
    "shutup.mute_warnings()\n",
    "print('HNX version:',hnx.__version__)\n",
    "Datadir = \"data/\""
   ]
  },
  {
   "cell_type": "markdown",
   "metadata": {},
   "source": [
    "# Experiment with h-ABCD hypergraphs\n",
    "\n",
    "We generated 4 h-ABCD hypergraphs with parameters:\n",
    "\n",
    "* -n 1000 -d 2.5,5,50 -c 1.5,50,200 -x 0.5 -q 0.0,0.4,0.3,0.2,0.1 -w :**linear** -s 1234 -o linear_1000\n",
    "* same as above with **strict**, **majority**\n",
    "* -n 1000 -d 2.5,5,50 -c 1.5,50,200 -x 0.5 -q 0.0,0.1,0.1,0.1,0.1,0.1,0.1,0.1,0.1,0.1,0.1 -w :linear -s 1234 -o linear_large_edges_1000\n"
   ]
  },
  {
   "cell_type": "code",
   "execution_count": 2,
   "metadata": {
    "ExecuteTime": {
     "end_time": "2023-11-09T00:28:43.195781Z",
     "start_time": "2023-11-09T00:28:43.149930Z"
    }
   },
   "outputs": [],
   "source": [
    "## pick one on the 4 examples\n",
    "file_vertex_labels = Datadir+'linear_1000_assign.txt'\n",
    "file_hyperedges = Datadir+'linear_1000_he.txt'"
   ]
  },
  {
   "cell_type": "code",
   "execution_count": 3,
   "metadata": {
    "ExecuteTime": {
     "end_time": "2023-11-09T00:28:46.922021Z",
     "start_time": "2023-11-09T00:28:45.974463Z"
    }
   },
   "outputs": [
    {
     "data": {
      "text/plain": [
       "(1000, 3385)"
      ]
     },
     "execution_count": 3,
     "metadata": {},
     "output_type": "execute_result"
    }
   ],
   "source": [
    "## read data, build hypergraph\n",
    "with open(file_hyperedges, 'r') as file:\n",
    "    # Read all the lines of the file into a list\n",
    "    lines = file.readlines()\n",
    "hyperedges = [[y for y in x.replace('\\n','').split(',')] for x in lines]\n",
    "\n",
    "## for test purpose - add edges of size 1, multi-edges\n",
    "#hyperedges.extend([['1'],['2'],['3']])\n",
    "#hyperedges.extend([['1','1'],['2'],['3','3']])\n",
    "\n",
    "with open(file_vertex_labels, 'r') as file:\n",
    "    # Read all the lines of the file into a list\n",
    "    vertex_labels = np.array([int(y) for y in file.read().splitlines()])\n",
    "\n",
    "H = hnx.Hypergraph(hyperedges)\n",
    "## optional - add random edge weights for test purpose\n",
    "#for e in H.edges:\n",
    "#    H.edges[e].weight = np.random.choice(10)+1\n",
    "H.shape    "
   ]
  },
  {
   "cell_type": "code",
   "execution_count": 4,
   "metadata": {
    "ExecuteTime": {
     "end_time": "2023-11-09T00:29:20.510734Z",
     "start_time": "2023-11-09T00:29:20.080466Z"
    }
   },
   "outputs": [
    {
     "name": "stdout",
     "output_type": "stream",
     "text": [
      "CPU times: user 77.2 ms, sys: 1.48 ms, total: 78.7 ms\n",
      "Wall time: 78.7 ms\n"
     ]
    }
   ],
   "source": [
    "%%time\n",
    "## Cluster the 2-section graph (with Louvain)\n",
    "G = hmod.two_section(H)\n",
    "G.vs['louvain'] = G.community_multilevel(weights='weight').membership\n",
    "ML = hmod.dict2part({v['name']:v['louvain'] for v in G.vs})\n"
   ]
  },
  {
   "cell_type": "code",
   "execution_count": 5,
   "metadata": {
    "ExecuteTime": {
     "end_time": "2023-11-09T00:29:23.139492Z",
     "start_time": "2023-11-09T00:29:23.054207Z"
    }
   },
   "outputs": [
    {
     "name": "stdout",
     "output_type": "stream",
     "text": [
      "qH-linear: 0.3769123863247471\n",
      "qH-majority: 0.3912309515549923\n",
      "qH-strict: 0.33875129084585165\n",
      "CPU times: user 27.2 ms, sys: 1.62 ms, total: 28.8 ms\n",
      "Wall time: 28.2 ms\n"
     ]
    }
   ],
   "source": [
    "%%time\n",
    "## Compute qH's\n",
    "print('qH-linear:',hmod.modularity(H, ML, wdc=hmod.linear))\n",
    "print('qH-majority:',hmod.modularity(H, ML, wdc=hmod.majority))\n",
    "print('qH-strict:',hmod.modularity(H, ML, wdc=hmod.strict))\n"
   ]
  },
  {
   "cell_type": "code",
   "execution_count": 6,
   "metadata": {
    "ExecuteTime": {
     "end_time": "2023-11-09T00:29:47.130431Z",
     "start_time": "2023-11-09T00:29:33.745556Z"
    }
   },
   "outputs": [
    {
     "name": "stdout",
     "output_type": "stream",
     "text": [
      "pass completed, max edge weight difference: 0.48700147710487446\n",
      "pass completed, max edge weight difference: 0.24451994091580503\n",
      "pass completed, max edge weight difference: 0.12646479566715904\n",
      "pass completed, max edge weight difference: 0.06387493845396357\n",
      "pass completed, max edge weight difference: 0.029933530280649934\n",
      "pass completed, max edge weight difference: 0.019070808714918758\n",
      "pass completed, max edge weight difference: 0.006963318562284588\n",
      "CPU times: user 3.56 s, sys: 6.97 ms, total: 3.57 s\n",
      "Wall time: 3.58 s\n"
     ]
    }
   ],
   "source": [
    "%%time\n",
    "## Cluster the hypergraph (with Kumar's)\n",
    "KU = hmod.kumar(H, verbose=True)\n"
   ]
  },
  {
   "cell_type": "code",
   "execution_count": 7,
   "metadata": {
    "ExecuteTime": {
     "end_time": "2023-11-09T00:27:38.420141Z",
     "start_time": "2023-11-09T00:27:38.364670Z"
    }
   },
   "outputs": [
    {
     "name": "stdout",
     "output_type": "stream",
     "text": [
      "qH-linear: 0.3722639137097482\n",
      "qH-majority: 0.3859432169055994\n",
      "qH-strict: 0.3376173854414389\n",
      "CPU times: user 62.3 ms, sys: 3.48 ms, total: 65.8 ms\n",
      "Wall time: 64.3 ms\n"
     ]
    }
   ],
   "source": [
    "%%time\n",
    "## Compute qH's\n",
    "print('qH-linear:',hmod.modularity(H, KU, wdc=hmod.linear))\n",
    "print('qH-majority:',hmod.modularity(H, KU, wdc=hmod.majority))\n",
    "print('qH-strict:',hmod.modularity(H, KU, wdc=hmod.strict))\n"
   ]
  },
  {
   "cell_type": "code",
   "execution_count": 8,
   "metadata": {
    "ExecuteTime": {
     "end_time": "2023-11-09T00:28:21.210931Z",
     "start_time": "2023-11-09T00:27:38.457234Z"
    },
    "scrolled": false
   },
   "outputs": [
    {
     "name": "stdout",
     "output_type": "stream",
     "text": [
      "initial qH: 0.3722639137097482\n",
      "118 moves, new qH: 0.3938078442804141\n",
      "30 moves, new qH: 0.3974294127219306\n",
      "CPU times: user 10.2 s, sys: 113 ms, total: 10.4 s\n",
      "Wall time: 10.3 s\n"
     ]
    }
   ],
   "source": [
    "%%time\n",
    "## try improving selected qH via simple heuristic\n",
    "KU_ls = hmod.last_step(H, KU, wdc=hmod.linear, verbose=True)"
   ]
  },
  {
   "cell_type": "code",
   "execution_count": 9,
   "metadata": {
    "ExecuteTime": {
     "end_time": "2023-11-09T00:28:21.327170Z",
     "start_time": "2023-11-09T00:28:21.213235Z"
    }
   },
   "outputs": [
    {
     "name": "stdout",
     "output_type": "stream",
     "text": [
      "qH-linear: 0.3974294127219306\n",
      "qH-majority: 0.4278470873406935\n",
      "qH-strict: 0.3274134925996659\n",
      "CPU times: user 26.3 ms, sys: 2.36 ms, total: 28.6 ms\n",
      "Wall time: 27.5 ms\n"
     ]
    }
   ],
   "source": [
    "%%time\n",
    "## Compute qH with current HNX function\n",
    "print('qH-linear:',hmod.modularity(H, KU_ls, wdc=hmod.linear))\n",
    "print('qH-majority:',hmod.modularity(H, KU_ls, wdc=hmod.majority))\n",
    "print('qH-strict:',hmod.modularity(H, KU_ls, wdc=hmod.strict))"
   ]
  }
 ],
 "metadata": {
  "kernelspec": {
   "display_name": "HNX",
   "language": "python",
   "name": "hnx"
  },
  "language_info": {
   "codemirror_mode": {
    "name": "ipython",
    "version": 3
   },
   "file_extension": ".py",
   "mimetype": "text/x-python",
   "name": "python",
   "nbconvert_exporter": "python",
   "pygments_lexer": "ipython3",
   "version": "3.11.8"
  }
 },
 "nbformat": 4,
 "nbformat_minor": 4
}
